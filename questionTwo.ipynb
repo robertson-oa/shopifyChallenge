{
 "cells": [
  {
   "cell_type": "markdown",
   "metadata": {},
   "source": [
    "<b>Question 2:</b> For this question you’ll need to use SQL. <a href=\"https://www.w3schools.com/SQL/TRYSQL.ASP?FILENAME=TRYSQL_SELECT_ALL\">Follow this link</a> to access the data set required for the challenge. Please use queries to answer the following questions. Paste your queries along with your final numerical answers below.\n",
    "\n",
    "1) How many orders were shipped by Speedy Express in total?\n",
    "2) What is the last name of the employee with the most orders?\n",
    "3) What product was ordered the most by customers in Germany?\n"
   ]
  },
  {
   "cell_type": "code",
   "execution_count": 6,
   "metadata": {},
   "outputs": [],
   "source": [
    "# import packages\n",
    "# import pandas as pd\n",
    "# import sqlite3 \n",
    "\n",
    "# connect database and create cursor\n",
    "# conn = sqlite3.connect('https://www.w3schools.com/SQL/TRYSQL.ASP?FILENAME=TRYSQL_SELECT_ALL')\n",
    "# cur = conn.cursor()\n",
    "\n",
    "# executing the query\n",
    "#cur.execute(\"\"\"SELECT * FROM Customers;\"\"\")\n",
    "\n",
    "# creating a dataframe object\n",
    "#df = pd.DataFrame(cur.fetchall())\n",
    "\n",
    "# find database attributes from cursor.description to use as column names\n",
    "#cur.description\n",
    "\n",
    "# creating dataframe columns\n",
    "# df.columns = [x[0] for x in cur.description]\n",
    "# df.head()"
   ]
  },
  {
   "cell_type": "markdown",
   "metadata": {},
   "source": [
    "-- a) How many orders were shipped by Speedy Express in total?\n",
    "\n",
    "CREATE VIEW Shipper_Orders AS\n",
    "SELECT Orders.OrderID, Orders.ShipperID, Shippers.ShipperName\n",
    "FROM Orders \n",
    "JOIN Shippers\n",
    "ON Shippers.ShipperID=Orders.ShipperID;\n",
    "\n",
    "SELECT COUNT(*) FROM [Shipper_Orders]\n",
    "WHERE ShipperName = 'Speedy Express';\n",
    "\n",
    "ANSWER: 54\n",
    "\n",
    "-- b) What is the last name of the employee with the most orders? \n",
    "\n",
    "CREATE VIEW Employee_Orders AS \n",
    "SELECT Orders.EmployeeID, Employees.LastName, Orders.OrderID\n",
    "FROM Orders\n",
    "JOIN Employees\n",
    "ON Employees.EmployeeID=Orders.EmployeeID; \n",
    "\n",
    "SELECT LastName, COUNT(*)\n",
    "FROM Employee_Orders\n",
    "GROUP BY LastName\n",
    "ORDER BY COUNT(*) desc;\n",
    "\n",
    "ANSWER: Peacock, 40 \n",
    "\n",
    "-- c) What product was ordered the most by customers in Germany?\n",
    "\n",
    "CREATE VIEW Products_Ordered AS\n",
    "SELECT Orders.OrderID, Customers.Country, OrderDetails.Quantity, Products.ProductName\n",
    "FROM Orders, OrderDetails\n",
    "JOIN Customers ON Orders.CustomerID=Customers.CustomerID\n",
    "JOIN Products ON OrderDetails.ProductID=Products.ProductID\n",
    "WHERE Country='Germany';\n",
    "\n",
    "CREATE VIEW Product_Orders AS\n",
    "SELECT ProductName, Quantity, COUNT(*) as 'Orders'\n",
    "FROM Products_Ordered\n",
    "GROUP BY ProductName;\n",
    "\n",
    "SELECT ProductName, Quantity, Orders, (Quantity * Orders) AS TotalOrdered\n",
    "FROM Product_Orders\n",
    "ORDER BY TotalOrdered desc\n",
    "LIMIT 1;\n",
    "\n",
    "Answer:  \n",
    "\n",
    "ProductName - Camembert Pierrot\n",
    "Quantity - 40 \n",
    "Orders - 300\n",
    "TotalOrdered - 12000"
   ]
  },
  {
   "cell_type": "code",
   "execution_count": null,
   "metadata": {},
   "outputs": [],
   "source": []
  }
 ],
 "metadata": {
  "kernelspec": {
   "display_name": "Python 3",
   "language": "python",
   "name": "python3"
  },
  "language_info": {
   "codemirror_mode": {
    "name": "ipython",
    "version": 3
   },
   "file_extension": ".py",
   "mimetype": "text/x-python",
   "name": "python",
   "nbconvert_exporter": "python",
   "pygments_lexer": "ipython3",
   "version": "3.7.3"
  }
 },
 "nbformat": 4,
 "nbformat_minor": 2
}
